{
 "cells": [
  {
   "cell_type": "code",
   "execution_count": 25,
   "id": "ce863f20-efc8-4335-8d9e-ae93e49c93f7",
   "metadata": {},
   "outputs": [],
   "source": [
    "# server_ip = \"cloudflare-quic.com/\"\n",
    "nginx = {\n",
    "    \"name\": \"nginx\",\n",
    "    \"ip\": \"3.71.47.197\",\n",
    "}\n",
    "h2o = {\n",
    "    \"name\": \"h2o\",\n",
    "    \"ip\": \"35.156.45.133\",\n",
    "}\n",
    "\n",
    "iperf_port = \"6969\"\n",
    "\n",
    "servers = (nginx, h2o)"
   ]
  },
  {
   "cell_type": "markdown",
   "id": "e124fcfb-1a83-42bb-8de6-d182f94d0cf2",
   "metadata": {},
   "source": [
    "## Bandwidth and latency test"
   ]
  },
  {
   "cell_type": "markdown",
   "id": "7e6c7d19-1d4a-4d1a-ae55-114e16d1c062",
   "metadata": {},
   "source": [
    "### Latency"
   ]
  },
  {
   "cell_type": "code",
   "execution_count": 32,
   "id": "92996dff-3d01-4ed6-9af1-f87792150a17",
   "metadata": {},
   "outputs": [
    {
     "name": "stdout",
     "output_type": "stream",
     "text": [
      "\n",
      "==================== PING nginx ==========================\n",
      "PING 3.71.47.197 (3.71.47.197) 56(84) bytes of data.\n",
      "64 bytes from 3.71.47.197: icmp_seq=1 ttl=63 time=0.587 ms\n",
      "64 bytes from 3.71.47.197: icmp_seq=2 ttl=63 time=0.513 ms\n",
      "64 bytes from 3.71.47.197: icmp_seq=3 ttl=63 time=0.566 ms\n",
      "64 bytes from 3.71.47.197: icmp_seq=4 ttl=63 time=0.552 ms\n",
      "64 bytes from 3.71.47.197: icmp_seq=5 ttl=63 time=0.541 ms\n",
      "\n",
      "--- 3.71.47.197 ping statistics ---\n",
      "5 packets transmitted, 5 received, 0% packet loss, time 4103ms\n",
      "rtt min/avg/max/mdev = 0.513/0.551/0.587/0.024 ms\n",
      "\n",
      "==================== PING h2o ==========================\n",
      "PING 35.156.45.133 (35.156.45.133) 56(84) bytes of data.\n",
      "64 bytes from 35.156.45.133: icmp_seq=1 ttl=63 time=0.552 ms\n",
      "64 bytes from 35.156.45.133: icmp_seq=2 ttl=63 time=0.528 ms\n",
      "64 bytes from 35.156.45.133: icmp_seq=3 ttl=63 time=0.523 ms\n",
      "64 bytes from 35.156.45.133: icmp_seq=4 ttl=63 time=0.565 ms\n",
      "64 bytes from 35.156.45.133: icmp_seq=5 ttl=63 time=0.543 ms\n",
      "\n",
      "--- 35.156.45.133 ping statistics ---\n",
      "5 packets transmitted, 5 received, 0% packet loss, time 4103ms\n",
      "rtt min/avg/max/mdev = 0.523/0.542/0.565/0.015 ms\n"
     ]
    }
   ],
   "source": [
    "for server in servers:\n",
    "    print(\"\")\n",
    "    print(f\"==================== PING {server['name']} ==========================\")\n",
    "    !ping -c 5 {server[\"ip\"]}"
   ]
  },
  {
   "cell_type": "markdown",
   "id": "d1a44743-cc2e-4eba-94c4-07012ad6d71c",
   "metadata": {},
   "source": [
    "### Bandwidth - TCP & UDP"
   ]
  },
  {
   "cell_type": "code",
   "execution_count": 28,
   "id": "14b974aa-9088-4ac6-a648-ca653bc9804b",
   "metadata": {},
   "outputs": [
    {
     "name": "stdout",
     "output_type": "stream",
     "text": [
      "Connecting to host 3.71.47.197, port 6969\n",
      "[  5] local 172.31.10.40 port 58980 connected to 3.71.47.197 port 6969\n",
      "[ ID] Interval           Transfer     Bitrate         Retr  Cwnd\n",
      "[  5]   0.00-1.00   sec   457 MBytes  3.84 Gbits/sec  291    325 KBytes       \n",
      "[  5]   1.00-2.00   sec   500 MBytes  4.19 Gbits/sec  259    576 KBytes       \n",
      "[  5]   2.00-3.00   sec   470 MBytes  3.94 Gbits/sec  156    605 KBytes       \n",
      "[  5]   3.00-4.00   sec   495 MBytes  4.15 Gbits/sec  206    428 KBytes       \n",
      "[  5]   4.00-5.00   sec   464 MBytes  3.89 Gbits/sec  207    482 KBytes       \n",
      "[  5]   5.00-6.00   sec   472 MBytes  3.96 Gbits/sec  209    560 KBytes       \n",
      "[  5]   6.00-7.00   sec   471 MBytes  3.96 Gbits/sec  169    457 KBytes       \n",
      "[  5]   7.00-8.00   sec   404 MBytes  3.39 Gbits/sec  200    475 KBytes       \n",
      "[  5]   8.00-9.00   sec   319 MBytes  2.67 Gbits/sec  154    174 KBytes       \n",
      "[  5]   9.00-10.00  sec   391 MBytes  3.28 Gbits/sec  115    441 KBytes       \n",
      "- - - - - - - - - - - - - - - - - - - - - - - - -\n",
      "[ ID] Interval           Transfer     Bitrate         Retr\n",
      "[  5]   0.00-10.00  sec  4.34 GBytes  3.73 Gbits/sec  1966             sender\n",
      "[  5]   0.00-10.00  sec  4.34 GBytes  3.72 Gbits/sec                  receiver\n",
      "\n",
      "iperf Done.\n"
     ]
    }
   ],
   "source": [
    "# TODO: Make sure iperf is running on all servers.\n",
    "!iperf -c {nginx[\"ip\"]} -p {iperf_port}\n",
    "!iperf -u -c {server_ip} -p {iperf_port} -b 0"
   ]
  },
  {
   "cell_type": "markdown",
   "id": "558f91c3-675c-4f74-a36f-b916adbca163",
   "metadata": {},
   "source": [
    "### Measuring QUIC performance"
   ]
  },
  {
   "cell_type": "markdown",
   "id": "4cd629cc-4381-4b42-aeaa-6e5861ddb4a0",
   "metadata": {},
   "source": [
    "#### h2 load output parsing"
   ]
  },
  {
   "cell_type": "code",
   "execution_count": 53,
   "id": "af3708ab-fb32-4a81-bfdf-aa6b96cfde6a",
   "metadata": {},
   "outputs": [],
   "source": [
    "def get_throughput(res):\n",
    "    fin_line = [l for l in res if l.startswith(\"finished in \")][0]\n",
    "    return float(fin_line.split(\" \")[-1][:-4])\n",
    "\n",
    "def get_rps(res):\n",
    "    fin_line = [l for l in res if l.startswith(\"finished in \")][0]\n",
    "    return float(fin_line.split(\" \")[3])\n",
    "\n",
    "def get_success_pct(res):\n",
    "    req_line = [l for l in res if l.startswith(\"requests:\")][0]\n",
    "    items = req_line.split(\" \")\n",
    "    return float(items[7])/float(items[1])"
   ]
  },
  {
   "cell_type": "markdown",
   "id": "424d2ac5-d7c0-410d-9ab5-2b9490d02a4e",
   "metadata": {
    "tags": []
   },
   "source": [
    "#### Bulk Throughput\n",
    "\n",
    "Get throughput measurment from the client."
   ]
  },
  {
   "cell_type": "code",
   "execution_count": 47,
   "id": "40e50d4b-4c99-472c-89be-3ed5c5e6ab89",
   "metadata": {},
   "outputs": [
    {
     "name": "stdout",
     "output_type": "stream",
     "text": [
      "bulk throughput test h2 - nginx\n",
      "428.95 MB/s (succ: 1.0)\n",
      "551.17 MB/s (succ: 1.0)\n",
      "bulk throughput test h3 - nginx\n",
      "90.43 MB/s (succ: 1.0)\n",
      "92.12 MB/s (succ: 1.0)\n",
      "bulk throughput test h2 - h2o\n",
      "451.74 MB/s (succ: 1.0)\n",
      "546.93 MB/s (succ: 1.0)\n",
      "bulk throughput test h3 - h2o\n",
      "255.09 MB/s (succ: 1.0)\n",
      "247.68 MB/s (succ: 1.0)\n"
     ]
    }
   ],
   "source": [
    "for server in servers:\n",
    "    for protocol in (\"h2\", \"h3\",):\n",
    "        print(f\"bulk throughput test {protocol} - {server['name']}\")\n",
    "        # Request the file first, just to warm up caches.\n",
    "        _ = !h2load -n1 -c1 --npn-list={protocol} https://{server['ip']}/2g.txt\n",
    "        for i in range(2):\n",
    "            res = !h2load -n1 -c1 --npn-list={protocol} https://{server['ip']}/2g.txt\n",
    "            print(f\"{get_throughput(res)} MB/s (succ: {get_success_pct(res)})\")"
   ]
  },
  {
   "cell_type": "code",
   "execution_count": 78,
   "id": "8ea77bcf-0923-4135-8850-89d9def88929",
   "metadata": {},
   "outputs": [
    {
     "name": "stdout",
     "output_type": "stream",
     "text": [
      "rps test h2 - nginx\n",
      "41148.74 req/s (succ: 0.050)\n",
      "44307.7 req/s (succ: 0.050)\n",
      "rps test h3 - nginx\n",
      "71903.44 req/s (succ: 0.050)\n",
      "70238.63 req/s (succ: 0.050)\n",
      "rps test h2 - h2o\n",
      "246581.82 req/s (succ: 1.000)\n",
      "239029.16 req/s (succ: 1.000)\n",
      "rps test h3 - h2o\n",
      "162569.96 req/s (succ: 1.000)\n",
      "160809.53 req/s (succ: 1.000)\n"
     ]
    }
   ],
   "source": [
    "for server in servers:\n",
    "    for protocol in (\"h2\", \"h3\"):\n",
    "        print(f\"rps test {protocol} - {server['name']}\")\n",
    "        for i in range(2):\n",
    "            res = !h2load -n1000000 -t 2 -c 50 -m 100 --npn-list={protocol} https://{server['ip']}/index.html\n",
    "            print(f\"{get_rps(res)} req/s (succ: {get_success_pct(res):.3f})\")"
   ]
  },
  {
   "cell_type": "code",
   "execution_count": 75,
   "id": "2adc447a-e03f-434c-b726-062d48be49e7",
   "metadata": {},
   "outputs": [
    {
     "data": {
      "text/plain": [
       "['ngtcp2_conn_read_pkt: ERR_DRAINING',\n",
       " 'Warm-up phase is over for thread #1.',\n",
       " 'Main benchmark duration is started for thread #1.',\n",
       " 'Warm-up phase is over for thread #0.',\n",
       " 'Main benchmark duration is started for thread #0.',\n",
       " 'Main benchmark duration is over for thread #1. Stopping all clients.',\n",
       " 'Stopped all clients for thread #1',\n",
       " 'Main benchmark duration is over for thread #0. Stopping all clients.',\n",
       " 'Stopped all clients for thread #0',\n",
       " '',\n",
       " 'finished in 8.01s, 0.00 req/s, 0B/s',\n",
       " 'requests: 0 total, 0 started, 0 done, 0 succeeded, 0 failed, 0 errored, 0 timeout',\n",
       " 'status codes: 0 2xx, 0 3xx, 0 4xx, 0 5xx',\n",
       " 'traffic: 0B (0) total, 5.20MB (5450000) headers (space savings 37.71%), 1.10MB (1150000) data',\n",
       " 'UDP datagram: 1278 sent, 7470 received',\n",
       " '                     min         max         mean         sd        +/- sd',\n",
       " 'time for request:        0us         0us         0us         0us     0.00%',\n",
       " 'time for connect:        0us         0us         0us         0us     0.00%',\n",
       " 'time to 1st byte:        0us         0us         0us         0us     0.00%',\n",
       " 'req/s           :       0.00        0.00        0.00        0.00     0.00%']"
      ]
     },
     "execution_count": 75,
     "metadata": {},
     "output_type": "execute_result"
    }
   ],
   "source": [
    "res[-20:]"
   ]
  },
  {
   "cell_type": "code",
   "execution_count": null,
   "id": "9483ba11-5a04-453e-ae35-7d5506cae88e",
   "metadata": {},
   "outputs": [],
   "source": []
  }
 ],
 "metadata": {
  "kernelspec": {
   "display_name": "Python 3 (ipykernel)",
   "language": "python",
   "name": "python3"
  },
  "language_info": {
   "codemirror_mode": {
    "name": "ipython",
    "version": 3
   },
   "file_extension": ".py",
   "mimetype": "text/x-python",
   "name": "python",
   "nbconvert_exporter": "python",
   "pygments_lexer": "ipython3",
   "version": "3.9.11"
  }
 },
 "nbformat": 4,
 "nbformat_minor": 5
}
