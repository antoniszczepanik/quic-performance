{
 "cells": [
  {
   "cell_type": "markdown",
   "id": "558f91c3-675c-4f74-a36f-b916adbca163",
   "metadata": {},
   "source": [
    "### Measuring QUIC performance"
   ]
  },
  {
   "cell_type": "markdown",
   "id": "4cd629cc-4381-4b42-aeaa-6e5861ddb4a0",
   "metadata": {},
   "source": [
    "#### h2 load output parsing"
   ]
  },
  {
   "cell_type": "code",
   "execution_count": 43,
   "id": "af3708ab-fb32-4a81-bfdf-aa6b96cfde6a",
   "metadata": {},
   "outputs": [],
   "source": [
    "def get_throughput(res):\n",
    "    return float(res[-9].split(\" \")[-1][:-4])\n",
    "\n",
    "def get_rps(res):\n",
    "    return float(res[-9].split(\" \")[3])"
   ]
  },
  {
   "cell_type": "code",
   "execution_count": 61,
   "id": "ce863f20-efc8-4335-8d9e-ae93e49c93f7",
   "metadata": {},
   "outputs": [],
   "source": [
    "server_ip = \"3.71.32.41\""
   ]
  },
  {
   "cell_type": "markdown",
   "id": "424d2ac5-d7c0-410d-9ab5-2b9490d02a4e",
   "metadata": {
    "tags": []
   },
   "source": [
    "#### Bulk Throughput\n",
    "\n",
    "Get throughput measurment from the client."
   ]
  },
  {
   "cell_type": "code",
   "execution_count": 52,
   "id": "40e50d4b-4c99-472c-89be-3ed5c5e6ab89",
   "metadata": {},
   "outputs": [
    {
     "name": "stdout",
     "output_type": "stream",
     "text": [
      "409.88\n",
      "435.31\n",
      "478.77\n",
      "411.73\n",
      "471.68\n"
     ]
    }
   ],
   "source": [
    "for i in range(5):\n",
    "    res = !h2load -n1 -c1 --npn-list=h2 https://{server_ip}/2g.txt\n",
    "    t = get_throughput(res)\n",
    "    print(t)"
   ]
  },
  {
   "cell_type": "code",
   "execution_count": 62,
   "id": "8ea77bcf-0923-4135-8850-89d9def88929",
   "metadata": {},
   "outputs": [
    {
     "name": "stdout",
     "output_type": "stream",
     "text": [
      "26917.78\n",
      "37377.56\n",
      "37591.3\n",
      "35843.3\n",
      "38048.57\n"
     ]
    }
   ],
   "source": [
    "for i in range(5):\n",
    "    res = !h2load -n1000000 -c50 --npn-list=h2 https://{server_ip}/index.html\n",
    "    rps = get_rps(res)\n",
    "    print(rps)"
   ]
  },
  {
   "cell_type": "code",
   "execution_count": 44,
   "id": "2075e09b-9567-4852-b27c-27b9501103d5",
   "metadata": {},
   "outputs": [
    {
     "data": {
      "text/plain": [
       "22439.63"
      ]
     },
     "execution_count": 44,
     "metadata": {},
     "output_type": "execute_result"
    }
   ],
   "source": [
    "get_rps(res)"
   ]
  },
  {
   "cell_type": "code",
   "execution_count": null,
   "id": "468a0311-7bed-45d9-8cf1-b98c4f2b678d",
   "metadata": {},
   "outputs": [],
   "source": []
  }
 ],
 "metadata": {
  "kernelspec": {
   "display_name": "Python 3 (ipykernel)",
   "language": "python",
   "name": "python3"
  },
  "language_info": {
   "codemirror_mode": {
    "name": "ipython",
    "version": 3
   },
   "file_extension": ".py",
   "mimetype": "text/x-python",
   "name": "python",
   "nbconvert_exporter": "python",
   "pygments_lexer": "ipython3",
   "version": "3.9.11"
  }
 },
 "nbformat": 4,
 "nbformat_minor": 5
}
