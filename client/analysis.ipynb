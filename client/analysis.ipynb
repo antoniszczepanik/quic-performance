{
 "cells": [
  {
   "cell_type": "code",
   "execution_count": 15,
   "id": "ce863f20-efc8-4335-8d9e-ae93e49c93f7",
   "metadata": {},
   "outputs": [],
   "source": [
    "import pandas as pd\n",
    "import seaborn as sns\n",
    "import matplotlib\n",
    "from matplotlib import pyplot as plt\n",
    "import numpy as np\n",
    "import socket\n",
    "\n",
    "\n",
    "nginx = {\n",
    "    \"name\": \"Nginx\",\n",
    "    \"ip\": \"nginx.antoniszczepanik.com\",\n",
    "}\n",
    "\n",
    "h2o = {\n",
    "    \"name\": \"H2O\",\n",
    "    \"ip\": \"h2o.antoniszczepanik.com\",\n",
    "}\n",
    "\n",
    "caddy = {\n",
    "    \"name\": \"Caddy\",\n",
    "    \"ip\": \"caddy.antoniszczepanik.com\",\n",
    "}\n",
    "\n",
    "ls = {\n",
    "    \"name\": \"OpenLiteSpeed\",\n",
    "    \"ip\": \"litespeed.antoniszczepanik.com\",\n",
    "}\n",
    "\n",
    "iperf_port = \"6969\"\n",
    "\n",
    "servers = (nginx, h2o, caddy, ls)"
   ]
  },
  {
   "cell_type": "markdown",
   "id": "4cd629cc-4381-4b42-aeaa-6e5861ddb4a0",
   "metadata": {
    "tags": []
   },
   "source": [
    "#### h2 load output parsing"
   ]
  },
  {
   "cell_type": "code",
   "execution_count": 16,
   "id": "af3708ab-fb32-4a81-bfdf-aa6b96cfde6a",
   "metadata": {},
   "outputs": [],
   "source": [
    "def get_throughput(res):\n",
    "    try:\n",
    "        fin_line = [l for l in res if l.startswith(\"finished in \")][0]\n",
    "    except:\n",
    "        print(res)\n",
    "    return float(fin_line.split(\" \")[-1][:-4])\n",
    "\n",
    "def get_rps(res):\n",
    "    fin_line = [l for l in res if l.startswith(\"finished in \")][0]\n",
    "    return float(fin_line.split(\" \")[3])\n",
    "\n",
    "def get_success_pct(res):\n",
    "    req_line = [l for l in res if l.startswith(\"requests:\")][0]\n",
    "    items = req_line.split(\" \")\n",
    "    return float(items[7])/float(items[1])"
   ]
  },
  {
   "cell_type": "markdown",
   "id": "829403ed-9f77-4b9e-b852-945cf5678dbd",
   "metadata": {
    "tags": []
   },
   "source": [
    "### Network impairment tooling"
   ]
  },
  {
   "cell_type": "code",
   "execution_count": 17,
   "id": "e141e3b1-56d1-44e2-9034-000ae8109dab",
   "metadata": {},
   "outputs": [],
   "source": [
    "# Show rules\n",
    "def show():\n",
    "    !tc qdisc show dev ens5\n",
    "    print()\n",
    "    \n",
    "def add_impairment(loss_pct=0.25, delay_ms=100):\n",
    "    !sudo tc qdisc add dev ens5 root netem delay {delay_ms}ms\n",
    "    !sudo tc qdisc change dev ens5 root netem loss {loss_pct}%\n",
    "\n",
    "def clear_impairment():\n",
    "    !sudo tc qdisc del dev ens5 root\n",
    "    \n",
    "def add_in_loss(pct=0):\n",
    "    pct *= 0.01\n",
    "    !sudo iptables -A INPUT -m statistic --mode random --probability {pct} -j DROP\n",
    "\n",
    "def clear_in_loss():\n",
    "    !sudo iptables -D INPUT 1\n",
    "    \n",
    "def add_all(loss_pct=0.25, delay_ms=100):\n",
    "    #print(f\"set loss to {loss_pct}, set delay to {delay_ms}\")\n",
    "    add_in_loss(loss_pct)\n",
    "    add_impairment(loss_pct, delay_ms)\n",
    "    \n",
    "def clear():\n",
    "    #print(\"clear network impairment\")\n",
    "    clear_in_loss()\n",
    "    clear_impairment()"
   ]
  },
  {
   "cell_type": "markdown",
   "id": "ad41fa6e-e16b-4ef8-ab37-f44ed412f04f",
   "metadata": {},
   "source": [
    "### Check if h2load and servers are available (single request only)"
   ]
  },
  {
   "cell_type": "code",
   "execution_count": 18,
   "id": "c14df80d-7c4d-4547-a45e-20f77c908e13",
   "metadata": {},
   "outputs": [
    {
     "name": "stdout",
     "output_type": "stream",
     "text": [
      "Nginx           h2 requests: 1 total, 1 started, 1 done, 1 succeeded, 0 failed, 0 errored, 0 timeout\n",
      "Nginx           h3 requests: 1 total, 1 started, 1 done, 1 succeeded, 0 failed, 0 errored, 0 timeout\n",
      "H2O             h2 requests: 1 total, 1 started, 1 done, 1 succeeded, 0 failed, 0 errored, 0 timeout\n",
      "H2O             h3 requests: 1 total, 1 started, 1 done, 1 succeeded, 0 failed, 0 errored, 0 timeout\n",
      "Caddy           h2 requests: 1 total, 1 started, 1 done, 1 succeeded, 0 failed, 0 errored, 0 timeout\n",
      "Caddy           h3 requests: 1 total, 1 started, 1 done, 1 succeeded, 0 failed, 0 errored, 0 timeout\n",
      "OpenLiteSpeed   h2 requests: 1 total, 1 started, 1 done, 1 succeeded, 0 failed, 0 errored, 0 timeout\n",
      "OpenLiteSpeed   h3 requests: 1 total, 1 started, 1 done, 1 succeeded, 0 failed, 0 errored, 0 timeout\n"
     ]
    }
   ],
   "source": [
    "for server in servers:\n",
    "    for protocol in ('h2', 'h3'):\n",
    "        res = !h2load -n1 -c1 --npn-list={protocol} https://{server['ip']}/index.html\n",
    "        print(f\"{server['name']:15} {protocol} {[l for l in res if 'requests: ' in l][0]}\")\n"
   ]
  },
  {
   "cell_type": "markdown",
   "id": "e124fcfb-1a83-42bb-8de6-d182f94d0cf2",
   "metadata": {},
   "source": [
    "## Bandwidth and latency test"
   ]
  },
  {
   "cell_type": "markdown",
   "id": "7e6c7d19-1d4a-4d1a-ae55-114e16d1c062",
   "metadata": {},
   "source": [
    "### Latency"
   ]
  },
  {
   "cell_type": "code",
   "execution_count": null,
   "id": "92996dff-3d01-4ed6-9af1-f87792150a17",
   "metadata": {},
   "outputs": [],
   "source": [
    "for server in servers:\n",
    "    print(\"\")\n",
    "    print(f\"==================== PING {server['name']} ==========================\")\n",
    "    !ping -c 5 {server[\"ip\"]}"
   ]
  },
  {
   "cell_type": "markdown",
   "id": "d1a44743-cc2e-4eba-94c4-07012ad6d71c",
   "metadata": {},
   "source": [
    "### Bandwidth - TCP & UDP"
   ]
  },
  {
   "cell_type": "code",
   "execution_count": null,
   "id": "14b974aa-9088-4ac6-a648-ca653bc9804b",
   "metadata": {},
   "outputs": [],
   "source": [
    "# TODO: Make sure iperf is running on all servers.\n",
    "!iperf -c {nginx[\"ip\"]} -p {iperf_port}\n",
    "!iperf -u -c {nginx[\"ip\"]} -p {iperf_port} -b 0"
   ]
  },
  {
   "cell_type": "markdown",
   "id": "558f91c3-675c-4f74-a36f-b916adbca163",
   "metadata": {},
   "source": [
    "### Measuring QUIC performance"
   ]
  },
  {
   "cell_type": "markdown",
   "id": "424d2ac5-d7c0-410d-9ab5-2b9490d02a4e",
   "metadata": {
    "tags": []
   },
   "source": [
    "#### Bulk Throughput\n",
    "\n",
    "Get throughput measurment from the client."
   ]
  },
  {
   "cell_type": "code",
   "execution_count": null,
   "id": "40e50d4b-4c99-472c-89be-3ed5c5e6ab89",
   "metadata": {},
   "outputs": [],
   "source": [
    "data_tp = {\n",
    "    \"server\": [],\n",
    "    \"throughput\": [],\n",
    "    \"protocol\": [],\n",
    "}\n",
    "\n",
    "for server in servers:\n",
    "    for protocol in (\"h2\", \"h3\",):\n",
    "        print(f\"bulk throughput test {protocol} - {server['name']}\")\n",
    "        # Request the file first, just to warm up caches.\n",
    "        _ = !h2load -n1 -c1 --npn-list={protocol} https://{server['ip']}/1g.txt\n",
    "        for i in range(1):\n",
    "            res = !h2load -n1 -c1 --npn-list={protocol} https://{server['ip']}/1g.txt\n",
    "            data_tp['server'].append(server['name'])\n",
    "            data_tp['throughput'].append(get_throughput(res))\n",
    "            data_tp['protocol'].append(\"HTTP/2\" if protocol == \"h2\" else \"HTTP/3\")\n",
    "            print(f\"{get_throughput(res)} MB/s (succ: {get_success_pct(res)})\")"
   ]
  },
  {
   "cell_type": "code",
   "execution_count": null,
   "id": "e1f73358-5517-4172-a9b3-5fdee1dddfb8",
   "metadata": {},
   "outputs": [],
   "source": [
    "def get_title_from_subplot(sup_title):\n",
    "    for s in servers:\n",
    "        if s['name'].lower() in sup_title.lower():\n",
    "            return s['name']\n",
    "    return \"ERROR: unknown server\"\n",
    "\n",
    "df_tp = pd.DataFrame(data_tp)\n",
    "sns.set(rc={'figure.figsize':(30,10)})\n",
    "\n",
    "# ax = sns.boxplot(x=\"server\", y=\"throughput\", hue=\"protocol\", data=df_tp, palette=\"Set3\")\n",
    "\n",
    "g = sns.catplot(x=\"protocol\", y=\"throughput\",hue=\"protocol\", col=\"server\",data=df_tp, kind=\"box\",height=8, aspect=.4, palette=\"Paired\");\n",
    "g.set_xlabels('Protocol')\n",
    "g.set_ylabels('Throughput (Mb/s)')\n",
    "for p in g.axes.flatten():\n",
    "    p.set_title(get_title_from_subplot(str(p.title)))\n",
    "    p.get_yaxis().set_minor_locator(matplotlib.ticker.AutoMinorLocator())\n",
    "    p.grid(visible=True, which='minor', color='w', linewidth=0.5)\n",
    "    plt.yticks(list(range(0, 601, 50)))"
   ]
  },
  {
   "cell_type": "code",
   "execution_count": null,
   "id": "8ea77bcf-0923-4135-8850-89d9def88929",
   "metadata": {},
   "outputs": [],
   "source": [
    "data_rps = {\n",
    "    \"server\": [],\n",
    "    \"rps\": [],\n",
    "    \"protocol\": [],\n",
    "}\n",
    "\n",
    "for server in servers:\n",
    "    for protocol in (\"h2\", \"h3\"):\n",
    "        print(f\"rps test {protocol} - {server['name']}\")\n",
    "        for i in range(10):\n",
    "            res = !h2load -n1000000 -t $(nproc) -c 100 -m 100 --npn-list={protocol} https://{server['ip']}/index.html\n",
    "            data_rps['server'].append(server['name'])\n",
    "            data_rps['rps'].append(get_rps(res))\n",
    "            data_rps['protocol'].append(protocol)\n",
    "            print(f\"{get_rps(res)} req/s (succ: {get_success_pct(res):.3f})\")"
   ]
  },
  {
   "cell_type": "code",
   "execution_count": null,
   "id": "42052cd3-7447-4ea6-906f-3ff4e8960e20",
   "metadata": {},
   "outputs": [],
   "source": [
    "df_rps= pd.DataFrame(data_rps)\n",
    "sns.set(rc={'figure.figsize':(20,10)})\n",
    "\n",
    "\n",
    "g = sns.catplot(x=\"protocol\", y=\"rps\",hue=\"protocol\", col=\"server\",data=df_rps, kind=\"box\",height=8, aspect=.4, palette=\"Paired\", sharey=False);\n",
    "g.set_xlabels('Protocol')\n",
    "g.set_ylabels('Requests per second')\n",
    "for p in g.axes.flatten():\n",
    "    p.set_title(get_title_from_subplot(str(p.title)))\n",
    "    p.get_yaxis().set_minor_locator(matplotlib.ticker.AutoMinorLocator())\n",
    "    p.grid(visible=True, which='minor', color='w', linewidth=0.5)"
   ]
  },
  {
   "cell_type": "markdown",
   "id": "ec1aaa67-0eab-4ccb-8716-f6e14e154943",
   "metadata": {},
   "source": [
    "# RPS with single connection (vary multiplexing level)"
   ]
  },
  {
   "cell_type": "code",
   "execution_count": null,
   "id": "20e483cf-7259-482e-a39e-fc5715c44c3a",
   "metadata": {},
   "outputs": [],
   "source": [
    "data_rps = {\n",
    "    \"server\": [],\n",
    "    \"rps\": [],\n",
    "    \"protocol\": [],\n",
    "}\n",
    "\n",
    "for server in servers:\n",
    "    for protocol in (\"h2\", \"h3\"):\n",
    "        print(f\"rps test {protocol} - {server['name']}\")\n",
    "        for conn_number in range(5):\n",
    "            res = !h2load -n100000 -t $(nproc) -c 100 -m 1 --npn-list={protocol} https://{server['ip']}/index.html\n",
    "            data_rps['server'].append(server['name'])\n",
    "            data_rps['rps'].append(get_rps(res))\n",
    "            data_rps['protocol'].append(protocol)\n",
    "            print(f\"{get_rps(res)} req/s (succ: {get_success_pct(res):.3f})\")"
   ]
  },
  {
   "cell_type": "markdown",
   "id": "a72e2407-43d1-4d86-8e81-855619d814a2",
   "metadata": {},
   "source": [
    "## RPS with varying loss"
   ]
  },
  {
   "cell_type": "markdown",
   "id": "b99da387-fe32-4629-bfa9-2d1fd587e5f1",
   "metadata": {},
   "source": [
    "## Download scenario with 100ms latency and varying loss 0 - 1.5 %"
   ]
  },
  {
   "cell_type": "code",
   "execution_count": 19,
   "id": "02ee08ad-151f-4206-9c8d-7b5e29e92c26",
   "metadata": {},
   "outputs": [
    {
     "name": "stdout",
     "output_type": "stream",
     "text": [
      "Error: Cannot delete qdisc with handle of zero.\n",
      "rps test h2 - Nginx\n",
      "398.2 Mb/s (succ: 1.000)\n",
      "377.4 Mb/s (succ: 1.000)\n",
      "309.02 Mb/s (succ: 1.000)\n",
      "250.13 Mb/s (succ: 1.000)\n",
      "196.39 Mb/s (succ: 1.000)\n",
      "176.71 Mb/s (succ: 1.000)\n",
      "139.63 Mb/s (succ: 1.000)\n",
      "131.57 Mb/s (succ: 1.000)\n",
      "116.05 Mb/s (succ: 1.000)\n",
      "106.38 Mb/s (succ: 1.000)\n",
      "91.24 Mb/s (succ: 1.000)\n",
      "87.12 Mb/s (succ: 1.000)\n",
      "79.23 Mb/s (succ: 1.000)\n",
      "70.74 Mb/s (succ: 1.000)\n",
      "58.84 Mb/s (succ: 1.000)\n",
      "61.82 Mb/s (succ: 1.000)\n",
      "Finished geting measurements for Nginx h2\n",
      "rps test h3 - Nginx\n",
      "102.16 Mb/s (succ: 1.000)\n",
      "95.02 Mb/s (succ: 1.000)\n",
      "90.28 Mb/s (succ: 1.000)\n",
      "90.15 Mb/s (succ: 1.000)\n",
      "76.33 Mb/s (succ: 1.000)\n",
      "75.49 Mb/s (succ: 1.000)\n",
      "69.49 Mb/s (succ: 1.000)\n",
      "62.38 Mb/s (succ: 1.000)\n",
      "61.53 Mb/s (succ: 1.000)\n",
      "60.49 Mb/s (succ: 1.000)\n",
      "56.96 Mb/s (succ: 1.000)\n",
      "57.59 Mb/s (succ: 1.000)\n",
      "55.47 Mb/s (succ: 1.000)\n",
      "50.87 Mb/s (succ: 1.000)\n",
      "52.56 Mb/s (succ: 1.000)\n",
      "49.54 Mb/s (succ: 1.000)\n",
      "Finished geting measurements for Nginx h3\n",
      "rps test h2 - H2O\n",
      "379.8 Mb/s (succ: 1.000)\n",
      "374.62 Mb/s (succ: 1.000)\n",
      "280.93 Mb/s (succ: 1.000)\n",
      "238.85 Mb/s (succ: 1.000)\n",
      "211.63 Mb/s (succ: 1.000)\n",
      "146.25 Mb/s (succ: 1.000)\n",
      "165.68 Mb/s (succ: 1.000)\n",
      "133.56 Mb/s (succ: 1.000)\n",
      "108.78 Mb/s (succ: 1.000)\n",
      "102.39 Mb/s (succ: 1.000)\n",
      "98.86 Mb/s (succ: 1.000)\n",
      "79.31 Mb/s (succ: 1.000)\n",
      "76.3 Mb/s (succ: 1.000)\n",
      "63.65 Mb/s (succ: 1.000)\n",
      "63.78 Mb/s (succ: 1.000)\n",
      "55.21 Mb/s (succ: 1.000)\n",
      "Finished geting measurements for H2O h2\n",
      "rps test h3 - H2O\n",
      "256.62 Mb/s (succ: 1.000)\n",
      "94.31 Mb/s (succ: 1.000)\n",
      "71.23 Mb/s (succ: 1.000)\n",
      "58.44 Mb/s (succ: 1.000)\n",
      "52.43 Mb/s (succ: 1.000)\n",
      "47.12 Mb/s (succ: 1.000)\n",
      "42.31 Mb/s (succ: 1.000)\n",
      "37.49 Mb/s (succ: 1.000)\n",
      "34.45 Mb/s (succ: 1.000)\n",
      "31.86 Mb/s (succ: 1.000)\n",
      "30.48 Mb/s (succ: 1.000)\n",
      "27.3 Mb/s (succ: 1.000)\n",
      "24.34 Mb/s (succ: 1.000)\n",
      "24.72 Mb/s (succ: 1.000)\n",
      "22.5 Mb/s (succ: 1.000)\n",
      "21.0 Mb/s (succ: 1.000)\n",
      "Finished geting measurements for H2O h3\n",
      "rps test h2 - Caddy\n",
      "309.5 Mb/s (succ: 1.000)\n",
      "298.47 Mb/s (succ: 1.000)\n",
      "219.73 Mb/s (succ: 1.000)\n",
      "232.86 Mb/s (succ: 1.000)\n",
      "224.77 Mb/s (succ: 1.000)\n",
      "172.04 Mb/s (succ: 1.000)\n",
      "129.99 Mb/s (succ: 1.000)\n",
      "127.7 Mb/s (succ: 1.000)\n",
      "109.97 Mb/s (succ: 1.000)\n",
      "99.0 Mb/s (succ: 1.000)\n",
      "90.9 Mb/s (succ: 1.000)\n",
      "85.69 Mb/s (succ: 1.000)\n",
      "75.03 Mb/s (succ: 1.000)\n",
      "68.64 Mb/s (succ: 1.000)\n",
      "69.7 Mb/s (succ: 1.000)\n",
      "69.71 Mb/s (succ: 1.000)\n",
      "Finished geting measurements for Caddy h2\n",
      "rps test h3 - Caddy\n",
      "139.31 Mb/s (succ: 1.000)\n",
      "107.96 Mb/s (succ: 1.000)\n",
      "93.44 Mb/s (succ: 1.000)\n",
      "72.83 Mb/s (succ: 1.000)\n",
      "68.83 Mb/s (succ: 1.000)\n",
      "59.79 Mb/s (succ: 1.000)\n",
      "61.71 Mb/s (succ: 1.000)\n",
      "48.89 Mb/s (succ: 1.000)\n",
      "48.77 Mb/s (succ: 1.000)\n",
      "46.48 Mb/s (succ: 1.000)\n",
      "40.26 Mb/s (succ: 1.000)\n",
      "42.05 Mb/s (succ: 1.000)\n",
      "33.81 Mb/s (succ: 1.000)\n",
      "33.41 Mb/s (succ: 1.000)\n",
      "33.14 Mb/s (succ: 1.000)\n",
      "28.62 Mb/s (succ: 1.000)\n",
      "Finished geting measurements for Caddy h3\n",
      "rps test h2 - OpenLiteSpeed\n",
      "398.7 Mb/s (succ: 1.000)\n",
      "373.37 Mb/s (succ: 1.000)\n",
      "315.19 Mb/s (succ: 1.000)\n",
      "219.3 Mb/s (succ: 1.000)\n",
      "306.81 Mb/s (succ: 1.000)\n",
      "254.99 Mb/s (succ: 1.000)\n",
      "263.58 Mb/s (succ: 1.000)\n",
      "240.16 Mb/s (succ: 1.000)\n",
      "221.46 Mb/s (succ: 1.000)\n",
      "215.63 Mb/s (succ: 1.000)\n",
      "197.65 Mb/s (succ: 1.000)\n",
      "223.28 Mb/s (succ: 1.000)\n",
      "160.45 Mb/s (succ: 1.000)\n",
      "180.33 Mb/s (succ: 1.000)\n",
      "202.62 Mb/s (succ: 1.000)\n",
      "172.49 Mb/s (succ: 1.000)\n",
      "Finished geting measurements for OpenLiteSpeed h2\n",
      "rps test h3 - OpenLiteSpeed\n",
      "284.45 Mb/s (succ: 1.000)\n",
      "139.24 Mb/s (succ: 1.000)\n",
      "120.7 Mb/s (succ: 1.000)\n",
      "107.61 Mb/s (succ: 1.000)\n",
      "91.65 Mb/s (succ: 1.000)\n",
      "85.51 Mb/s (succ: 1.000)\n",
      "81.6 Mb/s (succ: 1.000)\n",
      "67.58 Mb/s (succ: 1.000)\n",
      "63.53 Mb/s (succ: 1.000)\n",
      "72.48 Mb/s (succ: 1.000)\n",
      "56.3 Mb/s (succ: 1.000)\n",
      "45.07 Mb/s (succ: 1.000)\n",
      "47.3 Mb/s (succ: 1.000)\n",
      "37.9 Mb/s (succ: 1.000)\n",
      "38.69 Mb/s (succ: 1.000)\n",
      "9.86 Mb/s (succ: 0.000)\n",
      "Finished geting measurements for OpenLiteSpeed h3\n"
     ]
    }
   ],
   "source": [
    "clear()\n",
    "data_rps = {\n",
    "    \"server\": [],\n",
    "    \"throughput\": [],\n",
    "    \"protocol\": [],\n",
    "    \"loss\": [],\n",
    "}\n",
    "for server in servers:\n",
    "    for protocol in (\"h2\", \"h3\"):\n",
    "        print(f\"throughput test {protocol} - {server['name']}\")\n",
    "        for loss_pct in list(np.arange(0,1.6,0.1)):\n",
    "            add_all(loss_pct, 100)\n",
    "            for _ in range(1):\n",
    "                res = !h2load -n1 -c1 --npn-list={protocol} https://{server['ip']}/1g.txt\n",
    "                data_rps['server'].append(server['name'])\n",
    "                data_rps['protocol'].append(protocol)\n",
    "                data_rps['loss'].append(loss_pct)\n",
    "                data_rps['throughput'].append(get_throughput(res))\n",
    "\n",
    "                print(f\"{get_throughput(res)} Mb/s (succ: {get_success_pct(res):.3f})\")\n",
    "            clear()\n",
    "\n",
    "        print(f\"Finished geting measurements for {server['name']} {protocol}\")"
   ]
  },
  {
   "cell_type": "code",
   "execution_count": 20,
   "id": "ac74253a-3ab1-4dde-9698-5c828a3e33c5",
   "metadata": {},
   "outputs": [
    {
     "data": {
      "image/png": "[encoded data removed]",
      "text/plain": [
       "<Figure size 1440x360 with 4 Axes>"
      ]
     },
     "metadata": {
      "needs_background": "light"
     },
     "output_type": "display_data"
    }
   ],
   "source": [
    "df = pd.DataFrame(data_rps)\n",
    "df = df.replace({\"h2\": \"HTTP/2\", \"h3\": \"HTTP/3\"})\n",
    "\n",
    "f, axs = plt.subplots(1,len(servers),\n",
    "                      figsize=(20,5),\n",
    "                      sharey=True)\n",
    "\n",
    "for i, server in enumerate(servers):\n",
    "    df_s = df[df['server'] == server['name']]\n",
    "    sns.set_style(\"darkgrid\")\n",
    "    lp = sns.lineplot(x=\"loss\", y=\"throughput\", hue=\"protocol\", data=df_s, palette=\"Paired\", ax=axs[i]).set(title=server['name'], xlabel=\"Loss (%)\", ylabel=\"Throughput (Mb/s)\")\n",
    "    if i > 0:\n",
    "        axs[i].set(ylabel=None)\n",
    "\n",
    "\n",
    "plt.show()"
   ]
  },
  {
   "cell_type": "markdown",
   "id": "d4c77e03-362a-454d-b0df-c2f276033ad6",
   "metadata": {},
   "outputs": [],
   "source": [
    "## RPS test with 100ms latency and varying loss 0 - 1 %"
   ]
  },
  {
   "cell_type": "code",
   "execution_count": null,
   "id": "6dccb1c6-4951-4ad3-9b54-f278f065dcf6",
   "metadata": {},
   "outputs": [],
   "source": [
    "clear()\n",
    "data_rps = {\n",
    "    \"server\": [],\n",
    "    \"rps\": [],\n",
    "    \"protocol\": [],\n",
    "    \"loss\": [],\n",
    "}\n",
    "for server in servers:\n",
    "    for protocol in (\"h2\", \"h3\"):\n",
    "        print(f\"rps test {protocol} - {server['name']}\")\n",
    "        for loss_pct in list(np.arange(0,10,1)):\n",
    "            add_all(loss_pct, 500)\n",
    "            for _ in range(1):\n",
    "                res = !h2load -D5s -t $(nproc) -c 100 -m 100 --npn-list={protocol} https://{server['ip']}/index.html\n",
    "                data_rps['server'].append(server['name'])\n",
    "                data_rps['protocol'].append(protocol)\n",
    "                data_rps['loss'].append(loss_pct)\n",
    "                data_rps['rps'].append(get_rps(res))\n",
    "\n",
    "                print(f\"{get_rps(res)} RPS (succ: {get_success_pct(res):.3f})\")\n",
    "            clear()\n",
    "\n",
    "        print(f\"Finished geting measurements for {server['name']} {protocol}\")"
   ]
  },
  {
   "cell_type": "code",
   "execution_count": null,
   "id": "5bd804bb-b924-437d-be3f-ae8d7261b815",
   "metadata": {},
   "outputs": [],
   "source": [
    "res"
   ]
  },
  {
   "cell_type": "code",
   "execution_count": null,
   "id": "22472df7-d96c-4fc0-a93a-4f39be5c0ee1",
   "metadata": {},
   "outputs": [],
   "source": [
    "df = pd.DataFrame(data_rps)\n",
    "df = df.replace({\"h2\": \"HTTP/2\", \"h3\": \"HTTP/3\"})\n",
    "\n",
    "f, axs = plt.subplots(1,len(servers),\n",
    "                      figsize=(20,5),\n",
    "                      sharey=True)\n",
    "\n",
    "for i, server in enumerate(servers):\n",
    "    df_s = df[df['server'] == server['name']]\n",
    "    sns.set_style(\"darkgrid\")\n",
    "    lp = sns.lineplot(x=\"loss\", y=\"rps\", hue=\"protocol\", data=df_s, palette=\"Paired\", ax=axs[i]).set(title=server['name'], xlabel=\"Loss (%)\", ylabel=\"RPS\")\n",
    "    if i > 0:\n",
    "        axs[i].set(ylabel=None)\n",
    "\n",
    "\n",
    "plt.show()"
   ]
  },
  {
   "cell_type": "code",
   "execution_count": null,
   "id": "3fd40678-7ffb-4e7a-aa31-4be71866a6db",
   "metadata": {},
   "outputs": [],
   "source": []
  }
 ],
 "metadata": {
  "kernelspec": {
   "display_name": "Python 3",
   "language": "python",
   "name": "python3"
  },
  "language_info": {
   "codemirror_mode": {
    "name": "ipython",
    "version": 3
   },
   "file_extension": ".py",
   "mimetype": "text/x-python",
   "name": "python",
   "nbconvert_exporter": "python",
   "pygments_lexer": "ipython3",
   "version": "3.8.10"
  }
 },
 "nbformat": 4,
 "nbformat_minor": 5
}
