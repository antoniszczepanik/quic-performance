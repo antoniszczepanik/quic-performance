{
 "cells": [
  {
   "cell_type": "code",
   "execution_count": 50,
   "id": "ce863f20-efc8-4335-8d9e-ae93e49c93f7",
   "metadata": {},
   "outputs": [],
   "source": [
    "# server_ip = \"cloudflare-quic.com/\"\n",
    "nginx = {\n",
    "    \"name\": \"nginx\",\n",
    "    \"ip\": \"3.69.173.4\",\n",
    "}\n",
    "\n",
    "h2o = {\n",
    "    \"name\": \"h2o\",\n",
    "    \"ip\": \"18.184.62.114\",\n",
    "}\n",
    "\n",
    "caddy = {\n",
    "    \"name\": \"caddy\",\n",
    "    \"ip\": \"3.69.24.93\",\n",
    "}\n",
    "\n",
    "iperf_port = \"6969\"\n",
    "\n",
    "servers = (nginx, h2o, caddy)"
   ]
  },
  {
   "cell_type": "markdown",
   "id": "e124fcfb-1a83-42bb-8de6-d182f94d0cf2",
   "metadata": {},
   "source": [
    "## Bandwidth and latency test"
   ]
  },
  {
   "cell_type": "markdown",
   "id": "7e6c7d19-1d4a-4d1a-ae55-114e16d1c062",
   "metadata": {},
   "source": [
    "### Latency"
   ]
  },
  {
   "cell_type": "code",
   "execution_count": 20,
   "id": "92996dff-3d01-4ed6-9af1-f87792150a17",
   "metadata": {},
   "outputs": [
    {
     "name": "stdout",
     "output_type": "stream",
     "text": [
      "\n",
      "==================== PING nginx ==========================\n",
      "PING 3.69.173.4 (3.69.173.4) 56(84) bytes of data.\n",
      "64 bytes from 3.69.173.4: icmp_seq=1 ttl=63 time=0.482 ms\n",
      "64 bytes from 3.69.173.4: icmp_seq=2 ttl=63 time=0.394 ms\n",
      "64 bytes from 3.69.173.4: icmp_seq=3 ttl=63 time=0.475 ms\n",
      "64 bytes from 3.69.173.4: icmp_seq=4 ttl=63 time=0.431 ms\n",
      "64 bytes from 3.69.173.4: icmp_seq=5 ttl=63 time=0.377 ms\n",
      "\n",
      "--- 3.69.173.4 ping statistics ---\n",
      "5 packets transmitted, 5 received, 0% packet loss, time 4099ms\n",
      "rtt min/avg/max/mdev = 0.377/0.431/0.482/0.042 ms\n",
      "\n",
      "==================== PING h2o ==========================\n",
      "PING 18.184.62.114 (18.184.62.114) 56(84) bytes of data.\n",
      "64 bytes from 18.184.62.114: icmp_seq=1 ttl=63 time=0.619 ms\n",
      "64 bytes from 18.184.62.114: icmp_seq=2 ttl=63 time=0.547 ms\n",
      "64 bytes from 18.184.62.114: icmp_seq=3 ttl=63 time=0.564 ms\n",
      "64 bytes from 18.184.62.114: icmp_seq=4 ttl=63 time=0.553 ms\n",
      "64 bytes from 18.184.62.114: icmp_seq=5 ttl=63 time=0.539 ms\n",
      "\n",
      "--- 18.184.62.114 ping statistics ---\n",
      "5 packets transmitted, 5 received, 0% packet loss, time 4103ms\n",
      "rtt min/avg/max/mdev = 0.539/0.564/0.619/0.028 ms\n"
     ]
    }
   ],
   "source": [
    "for server in servers:\n",
    "    print(\"\")\n",
    "    print(f\"==================== PING {server['name']} ==========================\")\n",
    "    !ping -c 5 {server[\"ip\"]}"
   ]
  },
  {
   "cell_type": "markdown",
   "id": "d1a44743-cc2e-4eba-94c4-07012ad6d71c",
   "metadata": {},
   "source": [
    "### Bandwidth - TCP & UDP"
   ]
  },
  {
   "cell_type": "code",
   "execution_count": 21,
   "id": "14b974aa-9088-4ac6-a648-ca653bc9804b",
   "metadata": {},
   "outputs": [
    {
     "name": "stdout",
     "output_type": "stream",
     "text": [
      "Connecting to host 3.69.173.4, port 6969\n",
      "[  5] local 172.31.13.42 port 36580 connected to 3.69.173.4 port 6969\n",
      "[ ID] Interval           Transfer     Bitrate         Retr  Cwnd\n",
      "[  5]   0.00-1.00   sec   360 MBytes  3.02 Gbits/sec  328    532 KBytes       \n",
      "[  5]   1.00-2.00   sec   378 MBytes  3.17 Gbits/sec  237    301 KBytes       \n",
      "[  5]   2.00-3.00   sec   398 MBytes  3.33 Gbits/sec  211    433 KBytes       \n",
      "[  5]   3.00-4.00   sec   439 MBytes  3.68 Gbits/sec  389    542 KBytes       \n",
      "[  5]   4.00-5.00   sec   488 MBytes  4.09 Gbits/sec  343    400 KBytes       \n",
      "[  5]   5.00-6.00   sec   460 MBytes  3.86 Gbits/sec  287    580 KBytes       \n",
      "[  5]   6.00-7.00   sec   412 MBytes  3.46 Gbits/sec  366    673 KBytes       \n",
      "[  5]   7.00-8.00   sec   512 MBytes  4.30 Gbits/sec  351    550 KBytes       \n",
      "[  5]   8.00-9.00   sec   511 MBytes  4.29 Gbits/sec  590    375 KBytes       \n",
      "[  5]   9.00-10.00  sec   455 MBytes  3.82 Gbits/sec  360    481 KBytes       \n",
      "- - - - - - - - - - - - - - - - - - - - - - - - -\n",
      "[ ID] Interval           Transfer     Bitrate         Retr\n",
      "[  5]   0.00-10.00  sec  4.31 GBytes  3.70 Gbits/sec  3462             sender\n",
      "[  5]   0.00-10.00  sec  4.31 GBytes  3.70 Gbits/sec                  receiver\n",
      "\n",
      "iperf Done.\n",
      "Connecting to host 3.69.173.4, port 6969\n",
      "[  5] local 172.31.13.42 port 52962 connected to 3.69.173.4 port 6969\n",
      "[ ID] Interval           Transfer     Bitrate         Total Datagrams\n",
      "[  5]   0.00-1.00   sec   577 MBytes  4.84 Gbits/sec  417620  \n",
      "[  5]   1.00-2.00   sec   577 MBytes  4.84 Gbits/sec  417570  \n",
      "[  5]   2.00-3.00   sec   577 MBytes  4.84 Gbits/sec  417720  \n",
      "[  5]   3.00-4.00   sec   577 MBytes  4.84 Gbits/sec  417790  \n",
      "[  5]   4.00-5.00   sec   577 MBytes  4.84 Gbits/sec  417550  \n",
      "[  5]   5.00-6.00   sec   577 MBytes  4.84 Gbits/sec  417780  \n",
      "[  5]   6.00-7.00   sec   576 MBytes  4.83 Gbits/sec  417090  \n",
      "[  5]   7.00-8.00   sec   576 MBytes  4.83 Gbits/sec  416910  \n",
      "[  5]   8.00-9.00   sec   576 MBytes  4.83 Gbits/sec  417270  \n",
      "[  5]   9.00-10.00  sec   577 MBytes  4.84 Gbits/sec  417770  \n",
      "- - - - - - - - - - - - - - - - - - - - - - - - -\n",
      "[ ID] Interval           Transfer     Bitrate         Jitter    Lost/Total Datagrams\n",
      "[  5]   0.00-10.00  sec  5.63 GBytes  4.84 Gbits/sec  0.000 ms  0/4175070 (0%)  sender\n",
      "[  5]   0.00-10.00  sec  3.12 GBytes  2.68 Gbits/sec  0.003 ms  1857273/4169198 (45%)  receiver\n",
      "\n",
      "iperf Done.\n"
     ]
    }
   ],
   "source": [
    "# TODO: Make sure iperf is running on all servers.\n",
    "!iperf -c {nginx[\"ip\"]} -p {iperf_port}\n",
    "!iperf -u -c {nginx[\"ip\"]} -p {iperf_port} -b 0"
   ]
  },
  {
   "cell_type": "markdown",
   "id": "558f91c3-675c-4f74-a36f-b916adbca163",
   "metadata": {},
   "source": [
    "### Measuring QUIC performance"
   ]
  },
  {
   "cell_type": "markdown",
   "id": "4cd629cc-4381-4b42-aeaa-6e5861ddb4a0",
   "metadata": {},
   "source": [
    "#### h2 load output parsing"
   ]
  },
  {
   "cell_type": "code",
   "execution_count": 5,
   "id": "af3708ab-fb32-4a81-bfdf-aa6b96cfde6a",
   "metadata": {},
   "outputs": [],
   "source": [
    "def get_throughput(res):\n",
    "    fin_line = [l for l in res if l.startswith(\"finished in \")][0]\n",
    "    return float(fin_line.split(\" \")[-1][:-4])\n",
    "\n",
    "def get_rps(res):\n",
    "    fin_line = [l for l in res if l.startswith(\"finished in \")][0]\n",
    "    return float(fin_line.split(\" \")[3])\n",
    "\n",
    "def get_success_pct(res):\n",
    "    req_line = [l for l in res if l.startswith(\"requests:\")][0]\n",
    "    items = req_line.split(\" \")\n",
    "    return float(items[7])/float(items[1])"
   ]
  },
  {
   "cell_type": "markdown",
   "id": "424d2ac5-d7c0-410d-9ab5-2b9490d02a4e",
   "metadata": {
    "tags": []
   },
   "source": [
    "#### Bulk Throughput\n",
    "\n",
    "Get throughput measurment from the client."
   ]
  },
  {
   "cell_type": "code",
   "execution_count": 29,
   "id": "40e50d4b-4c99-472c-89be-3ed5c5e6ab89",
   "metadata": {},
   "outputs": [
    {
     "name": "stdout",
     "output_type": "stream",
     "text": [
      "bulk throughput test h2 - nginx\n",
      "415.24 MB/s (succ: 1.0)\n",
      "437.79 MB/s (succ: 1.0)\n",
      "bulk throughput test h3 - nginx\n",
      "113.17 MB/s (succ: 1.0)\n",
      "118.42 MB/s (succ: 1.0)\n",
      "bulk throughput test h2 - h2o\n",
      "504.9 MB/s (succ: 1.0)\n",
      "480.44 MB/s (succ: 1.0)\n",
      "bulk throughput test h3 - h2o\n",
      "268.42 MB/s (succ: 1.0)\n",
      "258.71 MB/s (succ: 1.0)\n"
     ]
    }
   ],
   "source": [
    "for server in servers:\n",
    "    for protocol in (\"h2\", \"h3\",):\n",
    "        print(f\"bulk throughput test {protocol} - {server['name']}\")\n",
    "        # Request the file first, just to warm up caches.\n",
    "        _ = !h2load -n1 -c1 --npn-list={protocol} https://{server['ip']}/1g.txt\n",
    "        for i in range(2):\n",
    "            res = !h2load -n1 -c1 --npn-list={protocol} https://{server['ip']}/1g.txt\n",
    "            print(f\"{get_throughput(res)} MB/s (succ: {get_success_pct(res)})\")"
   ]
  },
  {
   "cell_type": "code",
   "execution_count": 49,
   "id": "8ea77bcf-0923-4135-8850-89d9def88929",
   "metadata": {},
   "outputs": [
    {
     "name": "stdout",
     "output_type": "stream",
     "text": [
      "rps test h2 - nginx\n",
      "49906.62 req/s (succ: 1.000)\n",
      "60974.8 req/s (succ: 1.000)\n",
      "rps test h3 - nginx\n",
      "100915.54 req/s (succ: 1.000)\n",
      "99119.85 req/s (succ: 1.000)\n",
      "rps test h2 - h2o\n",
      "76161.61 req/s (succ: 1.000)\n",
      "74966.83 req/s (succ: 1.000)\n",
      "rps test h3 - h2o\n",
      "67102.15 req/s (succ: 1.000)\n",
      "67468.49 req/s (succ: 1.000)\n"
     ]
    }
   ],
   "source": [
    "for server in servers:\n",
    "    for protocol in (\"h2\", \"h3\"):\n",
    "        print(f\"rps test {protocol} - {server['name']}\")\n",
    "        for i in range(2):\n",
    "            res = !h2load -n2000000 -t $(nproc) -c 50 -m 100 --npn-list={protocol} https://{server['ip']}/index.html\n",
    "            print(f\"{get_rps(res)} req/s (succ: {get_success_pct(res):.3f})\")"
   ]
  },
  {
   "cell_type": "code",
   "execution_count": 65,
   "id": "f9279e1d-4676-47fb-a10c-42eabf1da6b6",
   "metadata": {},
   "outputs": [
    {
     "name": "stdout",
     "output_type": "stream",
     "text": [
      "starting benchmark...\n",
      "spawning thread #0: 1 total client(s). 1 total requests\n",
      "^C\n"
     ]
    }
   ],
   "source": [
    "!h2load -v -n1 -c1 --npn-list=h2 https://{caddy['ip']}/1g.txt"
   ]
  },
  {
   "cell_type": "code",
   "execution_count": null,
   "id": "42052cd3-7447-4ea6-906f-3ff4e8960e20",
   "metadata": {},
   "outputs": [],
   "source": []
  }
 ],
 "metadata": {
  "kernelspec": {
   "display_name": "Python 3 (ipykernel)",
   "language": "python",
   "name": "python3"
  },
  "language_info": {
   "codemirror_mode": {
    "name": "ipython",
    "version": 3
   },
   "file_extension": ".py",
   "mimetype": "text/x-python",
   "name": "python",
   "nbconvert_exporter": "python",
   "pygments_lexer": "ipython3",
   "version": "3.9.11"
  }
 },
 "nbformat": 4,
 "nbformat_minor": 5
}
