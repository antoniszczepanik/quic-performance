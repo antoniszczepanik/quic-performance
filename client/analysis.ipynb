{
 "cells": [
  {
   "cell_type": "code",
   "execution_count": 1,
   "id": "ce863f20-efc8-4335-8d9e-ae93e49c93f7",
   "metadata": {},
   "outputs": [],
   "source": [
    "# server_ip = \"cloudflare-quic.com/\"\n",
    "server_ip = \"3.73.33.119\"\n",
    "iperf_port = \"6969\""
   ]
  },
  {
   "cell_type": "markdown",
   "id": "e124fcfb-1a83-42bb-8de6-d182f94d0cf2",
   "metadata": {},
   "source": [
    "## Bandwidth and latency test"
   ]
  },
  {
   "cell_type": "markdown",
   "id": "7e6c7d19-1d4a-4d1a-ae55-114e16d1c062",
   "metadata": {},
   "source": [
    "### Latency"
   ]
  },
  {
   "cell_type": "code",
   "execution_count": 2,
   "id": "92996dff-3d01-4ed6-9af1-f87792150a17",
   "metadata": {},
   "outputs": [
    {
     "name": "stdout",
     "output_type": "stream",
     "text": [
      "PING 3.73.33.119 (3.73.33.119) 56(84) bytes of data.\n",
      "64 bytes from 3.73.33.119: icmp_seq=1 ttl=63 time=0.432 ms\n",
      "64 bytes from 3.73.33.119: icmp_seq=2 ttl=63 time=0.391 ms\n",
      "64 bytes from 3.73.33.119: icmp_seq=3 ttl=63 time=0.376 ms\n",
      "64 bytes from 3.73.33.119: icmp_seq=4 ttl=63 time=0.423 ms\n",
      "64 bytes from 3.73.33.119: icmp_seq=5 ttl=63 time=0.387 ms\n",
      "\n",
      "--- 3.73.33.119 ping statistics ---\n",
      "5 packets transmitted, 5 received, 0% packet loss, time 4093ms\n",
      "rtt min/avg/max/mdev = 0.376/0.401/0.432/0.021 ms\n"
     ]
    }
   ],
   "source": [
    "!ping -c 5 {server_ip}"
   ]
  },
  {
   "cell_type": "markdown",
   "id": "d1a44743-cc2e-4eba-94c4-07012ad6d71c",
   "metadata": {},
   "source": [
    "### Bandwidth - TCP"
   ]
  },
  {
   "cell_type": "code",
   "execution_count": 3,
   "id": "14b974aa-9088-4ac6-a648-ca653bc9804b",
   "metadata": {},
   "outputs": [
    {
     "name": "stdout",
     "output_type": "stream",
     "text": [
      "Connecting to host 3.73.33.119, port 6969\n",
      "[  5] local 172.31.7.227 port 44306 connected to 3.73.33.119 port 6969\n",
      "[ ID] Interval           Transfer     Bitrate         Retr  Cwnd\n",
      "[  5]   0.00-1.00   sec   377 MBytes  3.16 Gbits/sec  620    365 KBytes       \n",
      "[  5]   1.00-2.00   sec   536 MBytes  4.50 Gbits/sec  1503    358 KBytes       \n",
      "[  5]   2.00-3.00   sec   554 MBytes  4.64 Gbits/sec  1805    440 KBytes       \n",
      "[  5]   3.00-4.00   sec   506 MBytes  4.25 Gbits/sec  781    424 KBytes       \n",
      "[  5]   4.00-5.00   sec   564 MBytes  4.73 Gbits/sec  1181    378 KBytes       \n",
      "[  5]   5.00-6.00   sec   562 MBytes  4.72 Gbits/sec  435    332 KBytes       \n",
      "[  5]   6.00-7.00   sec   562 MBytes  4.72 Gbits/sec  1605    280 KBytes       \n",
      "[  5]   7.00-8.00   sec   564 MBytes  4.73 Gbits/sec  585    744 KBytes       \n",
      "[  5]   8.00-9.00   sec   561 MBytes  4.70 Gbits/sec  350    368 KBytes       \n",
      "[  5]   9.00-10.00  sec   562 MBytes  4.73 Gbits/sec  1605    389 KBytes       \n",
      "- - - - - - - - - - - - - - - - - - - - - - - - -\n",
      "[ ID] Interval           Transfer     Bitrate         Retr\n",
      "[  5]   0.00-10.00  sec  5.22 GBytes  4.49 Gbits/sec  10470             sender\n",
      "[  5]   0.00-10.00  sec  5.22 GBytes  4.48 Gbits/sec                  receiver\n",
      "\n",
      "iperf Done.\n"
     ]
    }
   ],
   "source": [
    "!iperf -c {server_ip} -p {iperf_port}"
   ]
  },
  {
   "cell_type": "markdown",
   "id": "700ed2a1-1e85-4b5d-904e-b2f436d96928",
   "metadata": {},
   "source": [
    "### Bandwidth - UDP"
   ]
  },
  {
   "cell_type": "code",
   "execution_count": 4,
   "id": "2e54cdbe-bb02-4f13-919d-38bf3fd23716",
   "metadata": {},
   "outputs": [
    {
     "name": "stdout",
     "output_type": "stream",
     "text": [
      "Connecting to host 3.73.33.119, port 6969\n",
      "[  5] local 172.31.7.227 port 56190 connected to 3.73.33.119 port 6969\n",
      "[ ID] Interval           Transfer     Bitrate         Total Datagrams\n",
      "[  5]   0.00-1.00   sec   572 MBytes  4.80 Gbits/sec  414370  \n",
      "[  5]   1.00-2.00   sec   573 MBytes  4.81 Gbits/sec  414970  \n",
      "[  5]   2.00-3.00   sec   574 MBytes  4.81 Gbits/sec  415470  \n",
      "[  5]   3.00-4.00   sec   574 MBytes  4.81 Gbits/sec  415390  \n",
      "[  5]   4.00-5.00   sec   574 MBytes  4.81 Gbits/sec  415470  \n",
      "[  5]   5.00-6.00   sec   574 MBytes  4.81 Gbits/sec  415410  \n",
      "[  5]   6.00-7.00   sec   573 MBytes  4.80 Gbits/sec  414740  \n",
      "[  5]   7.00-8.00   sec   574 MBytes  4.82 Gbits/sec  415880  \n",
      "[  5]   8.00-9.00   sec   574 MBytes  4.81 Gbits/sec  415440  \n",
      "[  5]   9.00-10.00  sec   574 MBytes  4.81 Gbits/sec  415560  \n",
      "- - - - - - - - - - - - - - - - - - - - - - - - -\n",
      "[ ID] Interval           Transfer     Bitrate         Jitter    Lost/Total Datagrams\n",
      "[  5]   0.00-10.00  sec  5.60 GBytes  4.81 Gbits/sec  0.000 ms  0/4152700 (0%)  sender\n",
      "[  5]   0.00-10.00  sec  1.87 GBytes  1.60 Gbits/sec  0.013 ms  2768969/4152521 (67%)  receiver\n",
      "\n",
      "iperf Done.\n"
     ]
    }
   ],
   "source": [
    "!iperf -u -c {server_ip} -p {iperf_port} -b 0"
   ]
  },
  {
   "cell_type": "markdown",
   "id": "558f91c3-675c-4f74-a36f-b916adbca163",
   "metadata": {},
   "source": [
    "### Measuring QUIC performance"
   ]
  },
  {
   "cell_type": "markdown",
   "id": "4cd629cc-4381-4b42-aeaa-6e5861ddb4a0",
   "metadata": {},
   "source": [
    "#### h2 load output parsing"
   ]
  },
  {
   "cell_type": "code",
   "execution_count": 5,
   "id": "af3708ab-fb32-4a81-bfdf-aa6b96cfde6a",
   "metadata": {},
   "outputs": [],
   "source": [
    "def get_throughput(res):\n",
    "    return float(res[8].split(\" \")[-1][:-4])\n",
    "\n",
    "def get_rps(res):\n",
    "    return float(res[17].split(\" \")[3])"
   ]
  },
  {
   "cell_type": "markdown",
   "id": "424d2ac5-d7c0-410d-9ab5-2b9490d02a4e",
   "metadata": {
    "tags": []
   },
   "source": [
    "#### Bulk Throughput\n",
    "\n",
    "Get throughput measurment from the client."
   ]
  },
  {
   "cell_type": "code",
   "execution_count": 10,
   "id": "40e50d4b-4c99-472c-89be-3ed5c5e6ab89",
   "metadata": {},
   "outputs": [
    {
     "name": "stdout",
     "output_type": "stream",
     "text": [
      "h3 - bulk throughput\n",
      "88.7 MB/s\n"
     ]
    }
   ],
   "source": [
    "  # --no-udp-gso\n",
    "  #             Disable UDP GSO.\n",
    "  # --max-udp-payload-size=<SIZE>\n",
    "  #             Specify the maximum outgoing UDP datagram payload size.\n",
    "\n",
    "\n",
    "for protocol in (\"h3\",):\n",
    "    print(f\"{protocol} - bulk throughput\")\n",
    "    # Request the file first, just to warm up caches.\n",
    "    _ = !h2load -n1 -c1 --npn-list={protocol} https://{server_ip}/2g.txt\n",
    "    for i in range(1):\n",
    "        res = !h2load -n1 -c1 --npn-list={protocol} https://{server_ip}/2g.txt --qlog-file-base=\"throughput\"\n",
    "        t = get_throughput(res)\n",
    "        print(f\"{t} MB/s\")"
   ]
  },
  {
   "cell_type": "code",
   "execution_count": 8,
   "id": "8ea77bcf-0923-4135-8850-89d9def88929",
   "metadata": {},
   "outputs": [
    {
     "name": "stdout",
     "output_type": "stream",
     "text": [
      "h2 - rps test\n",
      "2381.97 req/s\n",
      "2519.08 req/s\n",
      "2437.94 req/s\n",
      "2516.84 req/s\n",
      "2438.93 req/s\n",
      "h3 - rps test\n",
      "38.99 req/s\n",
      "39.01 req/s\n",
      "38.93 req/s\n",
      "38.98 req/s\n",
      "38.98 req/s\n"
     ]
    }
   ],
   "source": [
    "for protocol in (\"h2\", \"h3\"):\n",
    "    print(f\"{protocol} - rps test\")\n",
    "    for i in range(5):\n",
    "        res = !h2load -n1000 -c1 --npn-list={protocol} https://{server_ip}\n",
    "        rps = get_rps(res)\n",
    "        print(f\"{rps} req/s\")"
   ]
  },
  {
   "cell_type": "code",
   "execution_count": null,
   "id": "0042d419-ee5d-4110-908d-374e112b45a7",
   "metadata": {},
   "outputs": [],
   "source": []
  }
 ],
 "metadata": {
  "kernelspec": {
   "display_name": "Python 3 (ipykernel)",
   "language": "python",
   "name": "python3"
  },
  "language_info": {
   "codemirror_mode": {
    "name": "ipython",
    "version": 3
   },
   "file_extension": ".py",
   "mimetype": "text/x-python",
   "name": "python",
   "nbconvert_exporter": "python",
   "pygments_lexer": "ipython3",
   "version": "3.9.11"
  }
 },
 "nbformat": 4,
 "nbformat_minor": 5
}
